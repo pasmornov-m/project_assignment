{
 "cells": [
  {
   "cell_type": "code",
   "execution_count": 5,
   "id": "0c00165d",
   "metadata": {},
   "outputs": [
    {
     "name": "stdout",
     "output_type": "stream",
     "text": [
      "The autoreload extension is already loaded. To reload it, use:\n",
      "  %reload_ext autoreload\n"
     ]
    }
   ],
   "source": [
    "%load_ext autoreload\n",
    "%autoreload 2"
   ]
  },
  {
   "cell_type": "code",
   "execution_count": 32,
   "id": "4c0aa91c",
   "metadata": {},
   "outputs": [],
   "source": [
    "from etl.stages import sync_ds_tables\n",
    "from config import db_name, ds_schema_name, ds_sql_filename, raw_files_info, ds_tables_pkeys"
   ]
  },
  {
   "cell_type": "code",
   "execution_count": 33,
   "id": "5c72a13c",
   "metadata": {},
   "outputs": [
    {
     "name": "stdout",
     "output_type": "stream",
     "text": [
      "2025-06-25 15:55:12,376 [INFO] etl.stages: === Начало процесса синхронизации DS ===\n",
      "2025-06-25 15:55:12,378 [INFO] etl.stages: Начало: 2025-06-25 15:55:12\n"
     ]
    },
    {
     "ename": "KeyboardInterrupt",
     "evalue": "",
     "output_type": "error",
     "traceback": [
      "\u001b[0;31m---------------------------------------------------------------------------\u001b[0m",
      "\u001b[0;31mKeyboardInterrupt\u001b[0m                         Traceback (most recent call last)",
      "Cell \u001b[0;32mIn[33], line 1\u001b[0m\n\u001b[0;32m----> 1\u001b[0m \u001b[43msync_ds_tables\u001b[49m\u001b[43m(\u001b[49m\u001b[43mdb_name\u001b[49m\u001b[38;5;241;43m=\u001b[39;49m\u001b[43mdb_name\u001b[49m\u001b[43m,\u001b[49m\u001b[43m \u001b[49m\n\u001b[1;32m      2\u001b[0m \u001b[43m               \u001b[49m\u001b[43mschema_name\u001b[49m\u001b[38;5;241;43m=\u001b[39;49m\u001b[43mds_schema_name\u001b[49m\u001b[43m,\u001b[49m\u001b[43m \u001b[49m\n\u001b[1;32m      3\u001b[0m \u001b[43m               \u001b[49m\u001b[43msql_filename\u001b[49m\u001b[38;5;241;43m=\u001b[39;49m\u001b[43mds_sql_filename\u001b[49m\u001b[43m,\u001b[49m\u001b[43m \u001b[49m\n\u001b[1;32m      4\u001b[0m \u001b[43m               \u001b[49m\u001b[43mraw_files_info\u001b[49m\u001b[38;5;241;43m=\u001b[39;49m\u001b[43mraw_files_info\u001b[49m\u001b[43m,\u001b[49m\u001b[43m \u001b[49m\n\u001b[1;32m      5\u001b[0m \u001b[43m               \u001b[49m\u001b[43mtables_pkeys\u001b[49m\u001b[38;5;241;43m=\u001b[39;49m\u001b[43mds_tables_pkeys\u001b[49m\u001b[43m)\u001b[49m\n",
      "File \u001b[0;32m~/Work/project_assignment/etl/stages.py:122\u001b[0m, in \u001b[0;36msync_ds_tables\u001b[0;34m(db_name, schema_name, sql_filename, raw_files_info, tables_pkeys)\u001b[0m\n\u001b[1;32m    120\u001b[0m start_time \u001b[38;5;241m=\u001b[39m datetime\u001b[38;5;241m.\u001b[39mnow()\n\u001b[1;32m    121\u001b[0m logger\u001b[38;5;241m.\u001b[39minfo(\u001b[38;5;124mf\u001b[39m\u001b[38;5;124m\"\u001b[39m\u001b[38;5;124mНачало: \u001b[39m\u001b[38;5;132;01m{\u001b[39;00mstart_time\u001b[38;5;241m.\u001b[39mstrftime(\u001b[38;5;124m'\u001b[39m\u001b[38;5;124m%\u001b[39m\u001b[38;5;124mY-\u001b[39m\u001b[38;5;124m%\u001b[39m\u001b[38;5;124mm-\u001b[39m\u001b[38;5;132;01m%d\u001b[39;00m\u001b[38;5;124m \u001b[39m\u001b[38;5;124m%\u001b[39m\u001b[38;5;124mH:\u001b[39m\u001b[38;5;124m%\u001b[39m\u001b[38;5;124mM:\u001b[39m\u001b[38;5;124m%\u001b[39m\u001b[38;5;124mS\u001b[39m\u001b[38;5;124m'\u001b[39m)\u001b[38;5;132;01m}\u001b[39;00m\u001b[38;5;124m\"\u001b[39m)\n\u001b[0;32m--> 122\u001b[0m \u001b[43mtime\u001b[49m\u001b[38;5;241;43m.\u001b[39;49m\u001b[43msleep\u001b[49m\u001b[43m(\u001b[49m\u001b[38;5;241;43m5\u001b[39;49m\u001b[43m)\u001b[49m\n\u001b[1;32m    124\u001b[0m prepare_db(db_name, schema_name, sql_filename)\n\u001b[1;32m    125\u001b[0m update_tables(db_name, schema_name, raw_files_info, tables_pkeys)\n",
      "\u001b[0;31mKeyboardInterrupt\u001b[0m: "
     ]
    }
   ],
   "source": [
    "sync_ds_tables(db_name=db_name, \n",
    "               schema_name=ds_schema_name, \n",
    "               sql_filename=ds_sql_filename, \n",
    "               raw_files_info=raw_files_info, \n",
    "               tables_pkeys=ds_tables_pkeys)"
   ]
  }
 ],
 "metadata": {
  "kernelspec": {
   "display_name": "Python 3",
   "language": "python",
   "name": "python3"
  },
  "language_info": {
   "codemirror_mode": {
    "name": "ipython",
    "version": 3
   },
   "file_extension": ".py",
   "mimetype": "text/x-python",
   "name": "python",
   "nbconvert_exporter": "python",
   "pygments_lexer": "ipython3",
   "version": "3.10.12"
  }
 },
 "nbformat": 4,
 "nbformat_minor": 5
}
