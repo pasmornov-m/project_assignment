{
 "cells": [
  {
   "cell_type": "code",
   "execution_count": 5,
   "id": "0c00165d",
   "metadata": {},
   "outputs": [
    {
     "name": "stdout",
     "output_type": "stream",
     "text": [
      "The autoreload extension is already loaded. To reload it, use:\n",
      "  %reload_ext autoreload\n"
     ]
    }
   ],
   "source": [
    "%load_ext autoreload\n",
    "%autoreload 2"
   ]
  },
  {
   "cell_type": "code",
   "execution_count": 13,
   "id": "4c0aa91c",
   "metadata": {},
   "outputs": [],
   "source": [
    "from etl.create_and_load import create_and_load\n",
    "from etl.update_tables import update_tables\n"
   ]
  },
  {
   "cell_type": "code",
   "execution_count": 12,
   "id": "3894e783",
   "metadata": {},
   "outputs": [],
   "source": [
    "db_name = 'project'\n",
    "ds_schema_name='ds'\n",
    "ds_sql_filename='db_utils/ds_tables.sql'\n",
    "\n",
    "raw_files_info = {\n",
    "    \"raw_path\": \"raw_data\",\n",
    "    \"raw_files\": [\"ft_balance_f\", \"ft_posting_f\", \n",
    "                  \"md_account_d\", \"md_currency_d\",\n",
    "                  \"md_exchange_rate_d\", \"md_ledger_account_s\"]\n",
    "}\n",
    "\n",
    "tables_pkeys = {\n",
    "    \"ft_balance_f\": [\"on_date\", \"account_rk\"],\n",
    "    \"md_account_d\": [\"data_actual_date\", \"account_rk\"],\n",
    "    \"md_currency_d\": [\"currency_rk\", \"data_actual_date\"],\n",
    "    \"md_exchange_rate_d\": [\"data_actual_date\", \"currency_rk\"],\n",
    "    \"md_ledger_account_s\": [\"ledger_account\", \"start_date\"]\n",
    "}\n"
   ]
  },
  {
   "cell_type": "code",
   "execution_count": 18,
   "id": "13f82253",
   "metadata": {},
   "outputs": [
    {
     "name": "stdout",
     "output_type": "stream",
     "text": [
      "2025-06-25 14:59:45,858 [INFO] etl.create_and_load: --- Начало процесса создания БД и загрузки данных ---\n"
     ]
    },
    {
     "name": "stdout",
     "output_type": "stream",
     "text": [
      "2025-06-25 14:59:45,896 [INFO] db_utils.check_postges: Проверка существования базы данных 'project'\n",
      "2025-06-25 14:59:45,899 [INFO] db_utils.check_postges: База данных 'project' уже существует.\n",
      "2025-06-25 14:59:45,930 [INFO] db_utils.check_postges: Создаю схему 'ds' в базе 'project' (если она отсутствует)\n",
      "2025-06-25 14:59:45,934 [INFO] db_utils.check_postges: Схема 'ds' готова.\n",
      "2025-06-25 14:59:45,952 [INFO] db_utils.check_postges: Читаю SQL из файла 'db_utils/ds_tables.sql'\n",
      "2025-06-25 14:59:45,953 [INFO] db_utils.check_postges: Выполняю SQL для создания таблиц\n",
      "2025-06-25 14:59:45,958 [INFO] db_utils.check_postges: Таблицы успешно созданы.\n",
      "2025-06-25 14:59:45,960 [INFO] etl.create_and_load: Чтение CSV файлов в DataFrame\n",
      "2025-06-25 14:59:46,115 [INFO] etl.create_and_load: Начало загрузки данных в БД\n"
     ]
    },
    {
     "ename": "AttributeError",
     "evalue": "'float' object has no attribute 'strftime'",
     "output_type": "error",
     "traceback": [
      "\u001b[0;31m---------------------------------------------------------------------------\u001b[0m",
      "\u001b[0;31mAttributeError\u001b[0m                            Traceback (most recent call last)",
      "Cell \u001b[0;32mIn[18], line 1\u001b[0m\n\u001b[0;32m----> 1\u001b[0m \u001b[43mcreate_and_load\u001b[49m\u001b[43m(\u001b[49m\u001b[43mdb_name\u001b[49m\u001b[38;5;241;43m=\u001b[39;49m\u001b[43mdb_name\u001b[49m\u001b[43m,\u001b[49m\u001b[43m \u001b[49m\u001b[43mschema_name\u001b[49m\u001b[38;5;241;43m=\u001b[39;49m\u001b[43mds_schema_name\u001b[49m\u001b[43m,\u001b[49m\u001b[43m \u001b[49m\u001b[43msql_filename\u001b[49m\u001b[38;5;241;43m=\u001b[39;49m\u001b[43mds_sql_filename\u001b[49m\u001b[43m,\u001b[49m\u001b[43m \u001b[49m\u001b[43mraw_files_info\u001b[49m\u001b[38;5;241;43m=\u001b[39;49m\u001b[43mraw_files_info\u001b[49m\u001b[43m)\u001b[49m\n",
      "File \u001b[0;32m~/Work/project_assignment/etl/create_and_load.py:26\u001b[0m, in \u001b[0;36mcreate_and_load\u001b[0;34m(db_name, schema_name, sql_filename, raw_files_info)\u001b[0m\n\u001b[1;32m     24\u001b[0m logger\u001b[38;5;241m.\u001b[39minfo(\u001b[38;5;124m\"\u001b[39m\u001b[38;5;124mНачало загрузки данных в БД\u001b[39m\u001b[38;5;124m\"\u001b[39m)\n\u001b[1;32m     25\u001b[0m start_time \u001b[38;5;241m=\u001b[39m time\u001b[38;5;241m.\u001b[39mtime()\n\u001b[0;32m---> 26\u001b[0m logger\u001b[38;5;241m.\u001b[39minfo(\u001b[38;5;124mf\u001b[39m\u001b[38;5;124m\"\u001b[39m\u001b[38;5;124mВремя начала загрузки: \u001b[39m\u001b[38;5;132;01m{\u001b[39;00m\u001b[43mstart_time\u001b[49m\u001b[38;5;241;43m.\u001b[39;49m\u001b[43mstrftime\u001b[49m(\u001b[38;5;124m'\u001b[39m\u001b[38;5;124m%\u001b[39m\u001b[38;5;124mY-\u001b[39m\u001b[38;5;124m%\u001b[39m\u001b[38;5;124mm-\u001b[39m\u001b[38;5;132;01m%d\u001b[39;00m\u001b[38;5;124m \u001b[39m\u001b[38;5;124m%\u001b[39m\u001b[38;5;124mH:\u001b[39m\u001b[38;5;124m%\u001b[39m\u001b[38;5;124mM:\u001b[39m\u001b[38;5;124m%\u001b[39m\u001b[38;5;124mS\u001b[39m\u001b[38;5;124m'\u001b[39m)\u001b[38;5;132;01m}\u001b[39;00m\u001b[38;5;124m\"\u001b[39m)\n\u001b[1;32m     27\u001b[0m time\u001b[38;5;241m.\u001b[39msleep(\u001b[38;5;241m5\u001b[39m)\n\u001b[1;32m     29\u001b[0m \u001b[38;5;66;03m# ft_balance_f\u001b[39;00m\n",
      "\u001b[0;31mAttributeError\u001b[0m: 'float' object has no attribute 'strftime'"
     ]
    }
   ],
   "source": [
    "create_and_load(db_name=db_name, schema_name=ds_schema_name, sql_filename=ds_sql_filename, raw_files_info=raw_files_info)"
   ]
  },
  {
   "cell_type": "code",
   "execution_count": 17,
   "id": "63084645",
   "metadata": {},
   "outputs": [
    {
     "name": "stdout",
     "output_type": "stream",
     "text": [
      "2025-06-25 14:53:33,186 [INFO] etl.update_tables: Начало обновления таблиц в схеме 'ds' БД 'project'\n"
     ]
    },
    {
     "name": "stdout",
     "output_type": "stream",
     "text": [
      "2025-06-25 14:53:33,359 [INFO] etl.update_tables: CSV-файлы успешно загружены в память: ['ft_balance_f', 'ft_posting_f', 'md_account_d', 'md_currency_d', 'md_exchange_rate_d', 'md_ledger_account_s']\n",
      "2025-06-25 14:53:33,360 [INFO] etl.update_tables: Очищаем таблицу ds.ft_posting_f перед полной загрузкой...\n",
      "2025-06-25 14:53:33,382 [INFO] etl.update_tables: Таблица успешно очищена.\n",
      "2025-06-25 14:53:33,385 [INFO] etl.update_tables: Вставка данных в ft_posting_f...\n",
      "2025-06-25 14:54:02,591 [INFO] etl.update_tables: Загрузка данных в ft_posting_f завершена.\n",
      "2025-06-25 14:54:02,593 [INFO] etl.update_tables: Обновление данных в ds.ft_balance_f с помощью upsert\n",
      "2025-06-25 14:54:02,609 [INFO] utils.writers: Загрузка/обновление данных в ds.ft_balance_f...\n",
      "2025-06-25 14:54:02,624 [INFO] utils.writers: Успешно upsert-нуто 114 строк в ds.ft_balance_f\n",
      "2025-06-25 14:54:02,627 [INFO] etl.update_tables: Данные успешно обновлены в ds.ft_balance_f\n",
      "2025-06-25 14:54:02,630 [INFO] etl.update_tables: Обновление данных в ds.md_account_d с помощью upsert\n",
      "2025-06-25 14:54:02,647 [INFO] utils.writers: Загрузка/обновление данных в ds.md_account_d...\n",
      "2025-06-25 14:54:02,663 [INFO] utils.writers: Успешно upsert-нуто 112 строк в ds.md_account_d\n",
      "2025-06-25 14:54:02,665 [INFO] etl.update_tables: Данные успешно обновлены в ds.md_account_d\n",
      "2025-06-25 14:54:02,666 [INFO] etl.update_tables: Обновление данных в ds.md_currency_d с помощью upsert\n",
      "2025-06-25 14:54:02,692 [INFO] utils.writers: Загрузка/обновление данных в ds.md_currency_d...\n",
      "2025-06-25 14:54:02,709 [INFO] utils.writers: Успешно upsert-нуто 50 строк в ds.md_currency_d\n",
      "2025-06-25 14:54:02,710 [INFO] etl.update_tables: Данные успешно обновлены в ds.md_currency_d\n",
      "2025-06-25 14:54:02,713 [INFO] etl.update_tables: Обновление данных в ds.md_exchange_rate_d с помощью upsert\n",
      "2025-06-25 14:54:02,734 [INFO] utils.writers: Загрузка/обновление данных в ds.md_exchange_rate_d...\n",
      "2025-06-25 14:54:02,767 [INFO] utils.writers: Успешно upsert-нуто 460 строк в ds.md_exchange_rate_d\n",
      "2025-06-25 14:54:02,769 [INFO] etl.update_tables: Данные успешно обновлены в ds.md_exchange_rate_d\n",
      "2025-06-25 14:54:02,770 [INFO] etl.update_tables: Обновление данных в ds.md_ledger_account_s с помощью upsert\n",
      "2025-06-25 14:54:02,788 [INFO] utils.writers: Загрузка/обновление данных в ds.md_ledger_account_s...\n",
      "2025-06-25 14:54:02,799 [INFO] utils.writers: Успешно upsert-нуто 18 строк в ds.md_ledger_account_s\n",
      "2025-06-25 14:54:02,801 [INFO] etl.update_tables: Данные успешно обновлены в ds.md_ledger_account_s\n",
      "2025-06-25 14:54:02,803 [INFO] etl.update_tables: Обновление всех таблиц завершено за 29.62 секунд.\n"
     ]
    }
   ],
   "source": [
    "update_tables(db_name=db_name, schema_name=ds_schema_name, raw_files_info=raw_files_info, tables_pkeys=tables_pkeys)"
   ]
  }
 ],
 "metadata": {
  "kernelspec": {
   "display_name": "Python 3",
   "language": "python",
   "name": "python3"
  },
  "language_info": {
   "codemirror_mode": {
    "name": "ipython",
    "version": 3
   },
   "file_extension": ".py",
   "mimetype": "text/x-python",
   "name": "python",
   "nbconvert_exporter": "python",
   "pygments_lexer": "ipython3",
   "version": "3.10.12"
  }
 },
 "nbformat": 4,
 "nbformat_minor": 5
}
